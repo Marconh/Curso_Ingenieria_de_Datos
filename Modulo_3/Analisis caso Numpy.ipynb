{
 "cells": [
  {
   "cell_type": "markdown",
   "id": "5da33a2d-7e7e-41ff-a8af-a6f3005b810d",
   "metadata": {},
   "source": [
    "Instrucciones \n",
    " \n",
    "1. Carga y estructuración de datos: \n",
    "○ Crea un array NumPy con datos financieros simulados (por ejemplo, \n",
    "precios de acciones en diferentes días). \n",
    "○ Organiza los datos en una matriz de 5x5, donde cada fila representa \n",
    "una acción y cada columna un día de cotización. \n",
    "2. Análisis y transformación de datos: \n",
    "○ Obtén el promedio, valor máximo y mínimo de cada acción a lo \n",
    "largo del tiempo. \n",
    "○ Calcula la variación porcentual diaria de cada acción. \n",
    "○ Aplica funciones matemáticas como logaritmo, exponencial o \n",
    "normalización sobre los datos. \n",
    "3. Optimización y selección de datos: \n",
    "○ Utiliza indexación avanzada para extraer información específica, \n",
    "como el rendimiento de una acción en un día determinado. \n",
    "○ Aplica broadcasting para realizar operaciones sin necesidad de \n",
    "bucles. \n",
    "4. Comparación con otros métodos: \n",
    "○ Analiza cómo se podrían realizar estas tareas sin NumPy y compara \n",
    "la eficiencia en términos de código y rendimiento computacional. "
   ]
  },
  {
   "cell_type": "code",
   "execution_count": 1,
   "id": "3e4e461a-ac84-458e-9b52-ea496bd7acdb",
   "metadata": {},
   "outputs": [],
   "source": [
    "#Importacion de libreria\n",
    "import numpy as np"
   ]
  },
  {
   "cell_type": "code",
   "execution_count": 2,
   "id": "636b5c46-5db3-4c1b-945e-1e5c6aa5734f",
   "metadata": {},
   "outputs": [
    {
     "data": {
      "text/plain": [
       "array([[137.45401188, 195.07143064, 173.19939418, 159.86584842,\n",
       "        115.60186404],\n",
       "       [115.59945203, 105.80836122, 186.61761458, 160.11150117,\n",
       "        170.80725778],\n",
       "       [102.05844943, 196.99098522, 183.24426408, 121.23391107,\n",
       "        118.18249672],\n",
       "       [118.34045099, 130.4242243 , 152.47564316, 143.19450186,\n",
       "        129.12291402],\n",
       "       [161.18528947, 113.94938607, 129.21446485, 136.63618433,\n",
       "        145.60699842]])"
      ]
     },
     "execution_count": 2,
     "metadata": {},
     "output_type": "execute_result"
    }
   ],
   "source": [
    "# 1. Carga y estructuración de datos\n",
    "np.random.seed(42)  # Para reproducibilidad\n",
    "datos = np.random.uniform(100, 200, size=(5, 5))  # Simulamos precios de acciones\n",
    "datos"
   ]
  },
  {
   "cell_type": "code",
   "execution_count": 3,
   "id": "7c4f58b7-4950-423a-9b2d-f6e86c99a66e",
   "metadata": {},
   "outputs": [
    {
     "name": "stdout",
     "output_type": "stream",
     "text": [
      "Datos simulados (precios de acciones):\n",
      "[[137.45 195.07 173.2  159.87 115.6 ]\n",
      " [115.6  105.81 186.62 160.11 170.81]\n",
      " [102.06 196.99 183.24 121.23 118.18]\n",
      " [118.34 130.42 152.48 143.19 129.12]\n",
      " [161.19 113.95 129.21 136.64 145.61]] \n",
      "\n",
      "Promedios por acción:\n",
      "[156.24 147.79 144.34 134.71 137.32]\n",
      " Máximos por acción:\n",
      "[195.07 186.62 196.99 152.48 161.19]\n",
      " Mínimos por acción:\n",
      "[115.6  105.81 102.06 118.34 113.95]\n"
     ]
    }
   ],
   "source": [
    "# 2. Análisis y transformación de datos\n",
    "promedios = datos.mean(axis=1)\n",
    "maximos = datos.max(axis=1)\n",
    "minimos = datos.min(axis=1)\n",
    "\n",
    "# Impresión de resultados\n",
    "print(\"Datos simulados (precios de acciones):\")\n",
    "print(np.round(datos, 2), \"\\n\")\n",
    "\n",
    "print(\"Promedios por acción:\")\n",
    "print(np.round(promedios, 2))\n",
    "\n",
    "print(\" Máximos por acción:\")\n",
    "print(np.round(maximos, 2))\n",
    "\n",
    "print(\" Mínimos por acción:\")\n",
    "print(np.round(minimos, 2))"
   ]
  },
  {
   "cell_type": "code",
   "execution_count": 4,
   "id": "a4ae4cd2-16d6-4eb6-8a89-92e80906c727",
   "metadata": {},
   "outputs": [
    {
     "name": "stdout",
     "output_type": "stream",
     "text": [
      "Variación porcentual diaria de cada acción:\n",
      "[[ 41.917597   -11.21232176  -7.69837898 -27.68820534]\n",
      " [ -8.46984189  76.37322082 -14.20343597   6.68019257]\n",
      " [ 93.01781118  -6.97835037 -33.84026961  -2.51696437]\n",
      " [ 10.21102523  16.90745641  -6.08696649  -9.82690513]\n",
      " [-29.30534391  13.39636773   5.74372187   6.56547468]] \n",
      "\n",
      "Logaritmo natural de los precios:\n",
      "[[4.9232894  5.2733658  5.1544435  5.07433502 4.75015208]\n",
      " [4.75013122 4.66162954 5.22906168 5.07587045 5.14053577]\n",
      " [4.62554568 5.28315797 5.21082004 4.79772183 4.77223001]\n",
      " [4.77356565 4.8707924  5.02700487 4.96420386 4.86076477]\n",
      " [5.08255457 4.73575437 4.86147354 4.9173218  4.9809112 ]] \n",
      "\n",
      "Exponencial de los precios (escalado):\n",
      "[[3.95325828 7.03371001 5.65191226 4.94639231 3.17725825]\n",
      " [3.17718162 2.88084488 6.46353347 4.95855819 5.5183151 ]\n",
      " [2.77481615 7.1700301  6.24913242 3.36133801 3.26031875]\n",
      " [3.26547263 3.68489578 4.59402447 4.18683475 3.63725451]\n",
      " [5.0120895  3.12518619 3.64058597 3.92105929 4.28907025]] \n",
      "\n",
      "Normalización de los precios (min-max):\n",
      "[[0.37284965 0.9797798  0.74938422 0.60893137 0.14266357]\n",
      " [0.14263816 0.03950081 0.89072903 0.61151903 0.72418595]\n",
      " [0.         1.         0.85519484 0.20199041 0.16984743]\n",
      " [0.17151129 0.2987993  0.53108445 0.4333188  0.28509156]\n",
      " [0.62283009 0.12525671 0.28605594 0.36423482 0.45873155]]\n"
     ]
    }
   ],
   "source": [
    "variacion_porcentual = (datos[:, 1:] - datos[:, :-1]) / datos[:, :-1] * 100\n",
    "logaritmo = np.log(datos)\n",
    "exponencial = np.exp(datos / 100)  # Escalado para evitar overflow\n",
    "normalizado = (datos - datos.min()) / (datos.max() - datos.min())\n",
    "\n",
    "print(\"Variación porcentual diaria de cada acción:\")\n",
    "print(variacion_porcentual, \"\\n\")\n",
    "\n",
    "print(\"Logaritmo natural de los precios:\")\n",
    "print(logaritmo, \"\\n\")\n",
    "\n",
    "print(\"Exponencial de los precios (escalado):\")\n",
    "print(exponencial, \"\\n\")\n",
    "\n",
    "print(\"Normalización de los precios (min-max):\")\n",
    "print(normalizado)"
   ]
  },
  {
   "cell_type": "code",
   "execution_count": 5,
   "id": "2073db3a-a109-4c31-83bb-4022207444c2",
   "metadata": {},
   "outputs": [
    {
     "name": "stdout",
     "output_type": "stream",
     "text": [
      "Rendimiento de todas las acciones en el Día 3:\n",
      "[173.19939418 186.61761458 183.24426408 152.47564316 129.21446485] \n",
      "\n",
      "Valor de la Acción 2 en el Día 4:\n",
      "160.1115011743209\n"
     ]
    }
   ],
   "source": [
    "# 3. Optimización y selección\n",
    "rendimiento_dia_3 = datos[:, 2]  # Día 3 de todas las acciones\n",
    "accion_2_dia_4 = datos[1, 3]     # Acción 2, día 4\n",
    "\n",
    "print(\"Rendimiento de todas las acciones en el Día 3:\")\n",
    "print(rendimiento_dia_3, \"\\n\")\n",
    "\n",
    "print(\"Valor de la Acción 2 en el Día 4:\")\n",
    "print(accion_2_dia_4)"
   ]
  },
  {
   "cell_type": "code",
   "execution_count": 6,
   "id": "597273c7-05cc-4bd4-9829-3b37d2c42552",
   "metadata": {},
   "outputs": [
    {
     "name": "stdout",
     "output_type": "stream",
     "text": [
      "Datos originales:\n",
      "[[137.45401188 195.07143064 173.19939418 159.86584842 115.60186404]\n",
      " [115.59945203 105.80836122 186.61761458 160.11150117 170.80725778]\n",
      " [102.05844943 196.99098522 183.24426408 121.23391107 118.18249672]\n",
      " [118.34045099 130.4242243  152.47564316 143.19450186 129.12291402]\n",
      " [161.18528947 113.94938607 129.21446485 136.63618433 145.60699842]] \n",
      "\n",
      "Promedio por acción (usado para centrar):\n",
      "[156.23850983 147.78883736 144.3420213  134.71154687 137.31846463] \n",
      "\n",
      "Datos centrados (restando promedio a cada fila):\n",
      "[[-18.78449795  38.83292081  16.96088435   3.62733859 -40.63664579]\n",
      " [-32.18938532 -41.98047614  38.82877722  12.32266382  23.01842042]\n",
      " [-42.28357187  52.64896391  38.90224278 -23.10811024 -26.15952458]\n",
      " [-16.37109588  -4.28732257  17.7640963    8.482955    -5.58863285]\n",
      " [ 23.86682484 -23.36907856  -8.10399977  -0.6822803    8.28853379]]\n"
     ]
    }
   ],
   "source": [
    "# Broadcasting: restar el promedio de cada fila (acción)\n",
    "centrado = datos - datos.mean(axis=1, keepdims=True)\n",
    "\n",
    "print(\"Datos originales:\")\n",
    "print(datos, \"\\n\")\n",
    "\n",
    "print(\"Promedio por acción (usado para centrar):\")\n",
    "print(promedios, \"\\n\")\n",
    "\n",
    "print(\"Datos centrados (restando promedio a cada fila):\")\n",
    "print(centrado)"
   ]
  },
  {
   "cell_type": "markdown",
   "id": "fee32a5c-7552-4163-ab19-1e273e597307",
   "metadata": {},
   "source": [
    "Comparación con métodos tradicionales (sin NumPy)\n",
    "Sin NumPy:\n",
    "\n",
    "Habríamos usado listas anidadas y bucles for para calcular promedios, máximos, etc.\n",
    "\n",
    "Las operaciones serían más largas, menos legibles y más lentas en rendimiento.\n",
    "\n",
    "Ventajas de NumPy:\n",
    "\n",
    "Código más limpio, compacto y rápido.\n",
    "\n",
    "Funciones optimizadas en C para cálculos numéricos.\n",
    "\n",
    "Posibilidad de manejar matrices grandes con bajo uso de memoria."
   ]
  },
  {
   "cell_type": "code",
   "execution_count": null,
   "id": "7e5926f9-88f9-4943-b9ef-8cec0cd962d2",
   "metadata": {},
   "outputs": [],
   "source": []
  }
 ],
 "metadata": {
  "kernelspec": {
   "display_name": "Python 3 (ipykernel)",
   "language": "python",
   "name": "python3"
  },
  "language_info": {
   "codemirror_mode": {
    "name": "ipython",
    "version": 3
   },
   "file_extension": ".py",
   "mimetype": "text/x-python",
   "name": "python",
   "nbconvert_exporter": "python",
   "pygments_lexer": "ipython3",
   "version": "3.12.7"
  }
 },
 "nbformat": 4,
 "nbformat_minor": 5
}
