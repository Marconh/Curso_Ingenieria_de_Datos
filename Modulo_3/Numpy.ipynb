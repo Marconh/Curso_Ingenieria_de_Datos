{
 "cells": [
  {
   "cell_type": "markdown",
   "id": "9da23cb6-2bf3-4c26-b783-b38a2c94bb0f",
   "metadata": {},
   "source": [
    "Actividad 1"
   ]
  },
  {
   "cell_type": "markdown",
   "id": "79395b7d-89a7-4918-8ca3-c5a514ee8a54",
   "metadata": {},
   "source": [
    "Importa la librería NumPy como np.\n",
    "\n",
    "Crea una matriz A de 3x3 con números enteros del 1 al 9.\n",
    "\n",
    "Realiza las siguientes operaciones:\n",
    "• Suma 10 a cada elemento de la matriz.\n",
    "• Multiplica la matriz por 2.\n",
    "• Extrae los elementos mayores a 5 utilizando selección condicional.\n",
    "\n",
    "Asigna la matriz a una nueva variable B = A y modifica un valor de B. ¿Cambió también A?\n",
    "Ahora usá B = A.copy() y repetí la modificación. ¿Qué ocurrió con A esta vez?\n",
    "\n"
   ]
  },
  {
   "cell_type": "code",
   "execution_count": null,
   "id": "1022d409-177a-40e3-a497-d88f692bfa2f",
   "metadata": {},
   "outputs": [],
   "source": [
    "import numpy as np"
   ]
  },
  {
   "cell_type": "code",
   "execution_count": 4,
   "id": "2cea6598-c693-43c9-ac14-d2a27fb8b2cd",
   "metadata": {},
   "outputs": [],
   "source": [
    "#creacion de matriz 3x3\n",
    "A = np.array([[1, 2, 3],\n",
    "              [4, 5, 6],\n",
    "              [7, 8, 9]])\n"
   ]
  },
  {
   "cell_type": "code",
   "execution_count": 5,
   "id": "6c39ee1e-0073-4b42-8091-fdde2365d8e1",
   "metadata": {},
   "outputs": [],
   "source": [
    "#Filtro para numeros mayores que 5\n",
    "mayores_5 = A[A > 5]\n"
   ]
  },
  {
   "cell_type": "code",
   "execution_count": 6,
   "id": "41d80fa0-a30b-4c12-80ea-329a2bebbdfb",
   "metadata": {},
   "outputs": [
    {
     "data": {
      "text/plain": [
       "array([6, 7, 8, 9])"
      ]
     },
     "execution_count": 6,
     "metadata": {},
     "output_type": "execute_result"
    }
   ],
   "source": [
    "mayores_5"
   ]
  },
  {
   "cell_type": "code",
   "execution_count": 7,
   "id": "75daf02b-b1cd-4502-a93b-916be470ff14",
   "metadata": {},
   "outputs": [
    {
     "data": {
      "text/plain": [
       "array([[11, 12, 13],\n",
       "       [14, 15, 16],\n",
       "       [17, 18, 19]])"
      ]
     },
     "execution_count": 7,
     "metadata": {},
     "output_type": "execute_result"
    }
   ],
   "source": [
    "#Suma 10 a los elementos de la mtriz\n",
    "A_suma = A + 10\n",
    "A_suma"
   ]
  },
  {
   "cell_type": "code",
   "execution_count": 8,
   "id": "61fc0267-2f0d-4eab-a98f-6e38dbeea5a3",
   "metadata": {},
   "outputs": [
    {
     "data": {
      "text/plain": [
       "array([[ 2,  4,  6],\n",
       "       [ 8, 10, 12],\n",
       "       [14, 16, 18]])"
      ]
     },
     "execution_count": 8,
     "metadata": {},
     "output_type": "execute_result"
    }
   ],
   "source": [
    "#Multiplicacion matriz por 2\n",
    "A_multi = A * 2\n",
    "A_multi"
   ]
  },
  {
   "cell_type": "code",
   "execution_count": 11,
   "id": "14ccc130-1fa5-4b96-b943-84134f35c54a",
   "metadata": {},
   "outputs": [
    {
     "name": "stdout",
     "output_type": "stream",
     "text": [
      "[[False False False]\n",
      " [False False  True]\n",
      " [ True  True  True]]\n",
      "Los elementos que cumplen la condicion son:\n"
     ]
    },
    {
     "data": {
      "text/plain": [
       "array([6, 7, 8, 9])"
      ]
     },
     "execution_count": 11,
     "metadata": {},
     "output_type": "execute_result"
    }
   ],
   "source": [
    "#extrae elementos mayores a 5 con una seleccion condicional\n",
    "A_condicional = A > 5\n",
    "print (A_condicional)\n",
    "print(\"Los elementos que cumplen la condicion son:\")\n",
    "A[A_condicional]"
   ]
  },
  {
   "cell_type": "code",
   "execution_count": null,
   "id": "8457d9ac-2b42-484f-89bc-c46b127e08b8",
   "metadata": {},
   "outputs": [],
   "source": [
    "\n"
   ]
  },
  {
   "cell_type": "markdown",
   "id": "d1f8d136-f426-427f-8d9a-1d315e1c712a",
   "metadata": {},
   "source": [
    "actividad 2"
   ]
  },
  {
   "cell_type": "markdown",
   "id": "bb4203b2-15b6-4ea4-bbcf-e1415884262f",
   "metadata": {},
   "source": [
    "Paso a paso:\n",
    "\n",
    "Crea un arreglo x con np.arange(1, 17) y redimensionalo en una matriz de 4x4.\n",
    "\n",
    "Genera un arreglo de 10 elementos equidistantes entre 0 y 100 usando np.linspace().\n",
    "\n",
    "Crea una matriz aleatoria de 3x3 con enteros entre 1 y 20 usando np.random.randint().\n",
    "\n",
    "Aplica np.sqrt() y np.log() sobre las matrices creadas (cuando sea posible).\n",
    "\n",
    "¿Qué diferencias notás en la forma de aplicar funciones sobre arreglos enteros vs flotantes?\n",
    "\n"
   ]
  },
  {
   "cell_type": "code",
   "execution_count": 6,
   "id": "1421e2bc-9c11-4cf3-9574-da0c7bf0253f",
   "metadata": {},
   "outputs": [
    {
     "name": "stdout",
     "output_type": "stream",
     "text": [
      "Matriz 4x4:\n",
      " [[ 1  2  3  4]\n",
      " [ 5  6  7  8]\n",
      " [ 9 10 11 12]\n",
      " [13 14 15 16]]\n"
     ]
    }
   ],
   "source": [
    "# Arreglo del 1 al 16\n",
    "x = np.arange(1, 17)\n",
    "\n",
    "# Convertirlo en matriz 4x4\n",
    "matriz_4x4 = x.reshape((4, 4))\n",
    "\n",
    "print(\"Matriz 4x4:\\n\", matriz_4x4)"
   ]
  },
  {
   "cell_type": "code",
   "execution_count": 8,
   "id": "d6ce6c6e-3d63-4832-8ff5-d5846a435a06",
   "metadata": {},
   "outputs": [
    {
     "name": "stdout",
     "output_type": "stream",
     "text": [
      "Arreglo equidistante:\n",
      " [  0.          11.11111111  22.22222222  33.33333333  44.44444444\n",
      "  55.55555556  66.66666667  77.77777778  88.88888889 100.        ]\n"
     ]
    }
   ],
   "source": [
    "lineal = np.linspace(0, 100, 10)\n",
    "print(\"Arreglo equidistante:\\n\", lineal)"
   ]
  },
  {
   "cell_type": "code",
   "execution_count": 9,
   "id": "469f1d93-24d5-459e-9070-759f44ff518e",
   "metadata": {},
   "outputs": [
    {
     "name": "stdout",
     "output_type": "stream",
     "text": [
      "Matriz aleatoria 3x3:\n",
      " [[19 20  9]\n",
      " [10 17 16]\n",
      " [15  8 13]]\n"
     ]
    }
   ],
   "source": [
    "aleatoria = np.random.randint(1, 21, size=(3, 3))\n",
    "print(\"Matriz aleatoria 3x3:\\n\", aleatoria)\n"
   ]
  },
  {
   "cell_type": "code",
   "execution_count": 10,
   "id": "492befe7-9da7-455b-8528-85db467b5890",
   "metadata": {},
   "outputs": [
    {
     "name": "stdout",
     "output_type": "stream",
     "text": [
      "Raíz cuadrada:\n",
      " [[4.35889894 4.47213595 3.        ]\n",
      " [3.16227766 4.12310563 4.        ]\n",
      " [3.87298335 2.82842712 3.60555128]]\n",
      "Logaritmo natural:\n",
      " [[2.94443898 2.99573227 2.19722458]\n",
      " [2.30258509 2.83321334 2.77258872]\n",
      " [2.7080502  2.07944154 2.56494936]]\n"
     ]
    }
   ],
   "source": [
    "# Raíz cuadrada\n",
    "raiz = np.sqrt(aleatoria)\n",
    "print(\"Raíz cuadrada:\\n\", raiz)\n",
    "\n",
    "# Logaritmo natural\n",
    "logaritmo = np.log(aleatoria)\n",
    "print(\"Logaritmo natural:\\n\", logaritmo)\n"
   ]
  },
  {
   "cell_type": "markdown",
   "id": "67b8adf0-f9e9-4944-910d-c7bd2686bc04",
   "metadata": {},
   "source": [
    "Nota\n",
    "Cuando aplicas funciones como np.sqrt() o np.log() a arreglos enteros, NumPy devuelve un nuevo arreglo con valores flotantes, ya que las operaciones pueden resultar en decimales. Por otro lado, np.linspace() ya genera valores flotantes, por lo tanto, no se necesita conversión de tipo.\n",
    "\n"
   ]
  },
  {
   "cell_type": "code",
   "execution_count": null,
   "id": "f4d236b1-d829-4a76-8f13-d12b4c92041c",
   "metadata": {},
   "outputs": [],
   "source": []
  }
 ],
 "metadata": {
  "kernelspec": {
   "display_name": "Python 3 (ipykernel)",
   "language": "python",
   "name": "python3"
  },
  "language_info": {
   "codemirror_mode": {
    "name": "ipython",
    "version": 3
   },
   "file_extension": ".py",
   "mimetype": "text/x-python",
   "name": "python",
   "nbconvert_exporter": "python",
   "pygments_lexer": "ipython3",
   "version": "3.12.7"
  }
 },
 "nbformat": 4,
 "nbformat_minor": 5
}
