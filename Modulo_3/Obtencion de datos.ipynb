{
 "cells": [
  {
   "cell_type": "markdown",
   "id": "470887d2-92f8-42bf-b45a-c2c0ec14b02f",
   "metadata": {},
   "source": [
    "Instrucciones 💡\n",
    "Para completar este caso, realiza las siguientes tareas:\n",
    "\n",
    "1. Carga de datos desde distintos archivos:\n",
    "○ Importa un archivo CSV en un DataFrame de Pandas.\n",
    "○ Carga un archivo Excel en otro DataFrame.\n",
    "○ Extrae información de una tabla web utilizando read_html().\n",
    "2. Limpieza y estructuración de datos:\n",
    "○ Identifica valores nulos y decide si deben ser imputados o\n",
    "eliminados.\n",
    "○ Elimina filas duplicadas si es necesario.\n",
    "○ Verifica y ajusta los tipos de datos en columnas numéricas y\n",
    "categóricas.\n",
    "\n",
    "3. Transformación y optimización de datos:\n",
    "○ Selecciona las columnas más relevantes para el análisis.\n",
    "○ Renombra columnas para mejorar la legibilidad.\n",
    "○ Ordena los datos en función de una columna clave.\n",
    "4. Exportación de datos:\n",
    "○ Guarda el DataFrame limpio en un archivo CSV sin incluir el índice.\n",
    "○ Exporta los datos procesados a Excel para su visualización."
   ]
  },
  {
   "cell_type": "code",
   "execution_count": 1,
   "id": "42a8e4a1-3475-4794-a6bf-10484450d32f",
   "metadata": {},
   "outputs": [],
   "source": [
    "import pandas as pd"
   ]
  },
  {
   "cell_type": "code",
   "execution_count": 11,
   "id": "c7f6c8cd-0dc4-4388-8a5c-0c20cd12706e",
   "metadata": {},
   "outputs": [
    {
     "name": "stdout",
     "output_type": "stream",
     "text": [
      "CSV cargado con éxito\n",
      "Excel cargado con éxito\n",
      "Tabla web cargada con éxito\n"
     ]
    }
   ],
   "source": [
    "# a) Cargar archivo CSV\n",
    "df_csv = pd.read_csv(\"medallas.csv\")  # Reemplaza con el nombre real del archivo\n",
    "print(\"CSV cargado con éxito\")\n",
    "\n",
    "# b) Cargar archivo Excel\n",
    "df_excel = pd.read_excel(\"edad peces.xlsx\")  # Reemplaza con el nombre real del archivo\n",
    "print(\"Excel cargado con éxito\")\n",
    "\n",
    "# c) Cargar tabla web (requiere conexión a internet)\n",
    "url = \"https://es.wikipedia.org/wiki/Anexo:Pa%C3%ADses_por_poblaci%C3%B3n\"  # Ejemplo\n",
    "tablas = pd.read_html(url)\n",
    "df_web = tablas[0]  # Usamos la primera tabla\n",
    "print(\"Tabla web cargada con éxito\")"
   ]
  },
  {
   "cell_type": "code",
   "execution_count": 12,
   "id": "a04a5b07-917f-49d5-b883-3f98c5d32204",
   "metadata": {},
   "outputs": [
    {
     "name": "stdout",
     "output_type": "stream",
     "text": [
      "\n",
      "--- Valores nulos en el archivo CSV ---\n",
      "Oro       28\n",
      "Plata     24\n",
      "Bronce    17\n",
      "Total      0\n",
      "Pais       0\n",
      "dtype: int64\n",
      "\n",
      "--- Valores nulos en el archivo Excel ---\n",
      "AGE    0\n",
      "TL     0\n",
      "PT     0\n",
      "dtype: int64\n",
      "\n",
      "--- Valores nulos en la tabla web ---\n",
      "N.º                                                                                                  1\n",
      "País (o territorio dependiente)                                                                      0\n",
      "Proyección exponencial de la población al 1/7/2025[7]​                                               0\n",
      "Total mun- dial (%)                                                                                  0\n",
      "Cambio medio anual (%)[8]​                                                                           0\n",
      "Cambio absoluto anual promedio                                                                       0\n",
      "Cambio medio abs. total anual (%)                                                                    0\n",
      "Años para even- tual du- pli- ca- ción[9]​                                                           0\n",
      "Censo más reciente, última estimación oficial, proyección de la ONU o reloj de población nacional    0\n",
      "Fecha de esta última cifra de población en particular (d/mm/aaaa)[10]​                               0\n",
      "Tipo[11]​                                                                                            0\n",
      "Enlace o hipervínculo (usualmente de tipo oficial) de esta última cifra de población                 0\n",
      "dtype: int64\n"
     ]
    }
   ],
   "source": [
    "# 2. LIMPIEZA Y ESTRUCTURACIÓN\n",
    "\n",
    "# a) Identificar valores nulos en todos los DataFrames\n",
    "print(\"\\n--- Valores nulos en el archivo CSV ---\")\n",
    "print(df_csv.isnull().sum())\n",
    "\n",
    "print(\"\\n--- Valores nulos en el archivo Excel ---\")\n",
    "print(df_excel.isnull().sum())\n",
    "\n",
    "print(\"\\n--- Valores nulos en la tabla web ---\")\n",
    "print(df_web.isnull().sum())"
   ]
  },
  {
   "cell_type": "code",
   "execution_count": 13,
   "id": "d89d43dd-734a-4875-8289-a8933062dcaf",
   "metadata": {},
   "outputs": [
    {
     "name": "stdout",
     "output_type": "stream",
     "text": [
      "\n",
      "🔍 Ejemplos de filas con valores nulos en archivo CSV (primeras 5 filas):\n",
      "\n",
      "   Oro  Plata  Bronce  Total        Pais\n",
      "0  NaN    1.0     2.0      3   Argentina\n",
      "1  NaN    2.0     2.0      4     Armenia\n",
      "4  NaN    3.0     4.0      7  Azerbaijan\n",
      "5  2.0    NaN     NaN      2     Bahamas\n",
      "6  NaN    1.0     NaN      1     Bahrain\n",
      "\n",
      "🔍 Ejemplos de filas con valores nulos en tabla web (primeras 5 filas):\n",
      "\n",
      "     N.º País (o territorio dependiente)  \\\n",
      "244  NaN                           Mundo   \n",
      "\n",
      "    Proyección exponencial de la población al 1/7/2025[7]​  \\\n",
      "244                                      8 083 664 000       \n",
      "\n",
      "    Total mun- dial (%) Cambio medio anual (%)[8]​  \\\n",
      "244               10000                        103   \n",
      "\n",
      "    Cambio absoluto anual promedio Cambio medio abs. total anual (%)  \\\n",
      "244                     83 402 000                             10000   \n",
      "\n",
      "    Años para even- tual du- pli- ca- ción[9]​  \\\n",
      "244                                         68   \n",
      "\n",
      "    Censo más reciente, última estimación oficial, proyección de la ONU o reloj de población nacional  \\\n",
      "244                                      8 198 225 000                                                  \n",
      "\n",
      "    Fecha de esta última cifra de población en particular (d/mm/aaaa)[10]​  \\\n",
      "244                                         29/06/2025                       \n",
      "\n",
      "    Tipo[11]​  \\\n",
      "244         R   \n",
      "\n",
      "    Enlace o hipervínculo (usualmente de tipo oficial) de esta última cifra de población  \n",
      "244                              www.worldometers.info                                    \n"
     ]
    }
   ],
   "source": [
    "# Función para mostrar ejemplos de filas con valores nulos\n",
    "def mostrar_filas_con_nulos(df, nombre_df, cantidad=5):\n",
    "    filas_con_nulos = df[df.isnull().any(axis=1)]\n",
    "    print(f\"\\n🔍 Ejemplos de filas con valores nulos en {nombre_df} (primeras {cantidad} filas):\\n\")\n",
    "    print(filas_con_nulos.head(cantidad))\n",
    "\n",
    "# Mostrar ejemplos para cada DataFrame\n",
    "mostrar_filas_con_nulos(df_csv, \"archivo CSV\")\n",
    "mostrar_filas_con_nulos(df_web, \"tabla web\")"
   ]
  },
  {
   "cell_type": "code",
   "execution_count": 14,
   "id": "bf438317-db87-43b9-8946-5452fc815a2e",
   "metadata": {},
   "outputs": [],
   "source": [
    "#Por el tipo de dato, solo en df_csv imputaria los nulos por 0\n",
    "# Reemplazar todos los valores nulos por 0 en df_csv\n",
    "df_csv.fillna(0, inplace=True)"
   ]
  },
  {
   "cell_type": "code",
   "execution_count": 15,
   "id": "03e8e472-35d4-4e0d-8d01-ec62c7845a0d",
   "metadata": {},
   "outputs": [
    {
     "name": "stdout",
     "output_type": "stream",
     "text": [
      "\n",
      "✅ Verificación: valores nulos después del reemplazo en df_csv:\n",
      "Oro       0\n",
      "Plata     0\n",
      "Bronce    0\n",
      "Total     0\n",
      "Pais      0\n",
      "dtype: int64\n"
     ]
    }
   ],
   "source": [
    "print(\"\\n✅ Verificación: valores nulos después del reemplazo en df_csv:\")\n",
    "print(df_csv.isnull().sum())"
   ]
  },
  {
   "cell_type": "code",
   "execution_count": 16,
   "id": "65d68a8c-eb73-481c-b9c4-b233a2dc4b2b",
   "metadata": {},
   "outputs": [
    {
     "name": "stdout",
     "output_type": "stream",
     "text": [
      "🔁 Duplicados en df_csv: 0\n",
      "🔁 Duplicados en df_excel: 94\n",
      "🔁 Duplicados en df_web: 0\n"
     ]
    }
   ],
   "source": [
    "# Revisar y eliminar duplicados en df_csv\n",
    "print(\"🔁 Duplicados en df_csv:\", df_csv.duplicated().sum())\n",
    "df_csv = df_csv.drop_duplicates()\n",
    "\n",
    "# Revisar y eliminar duplicados en df_excel\n",
    "print(\"🔁 Duplicados en df_excel:\", df_excel.duplicated().sum())\n",
    "#df_excel = df_excel.drop_duplicates()\n",
    "#en df_excel, al ser una lista de peces no es necesario eliminar duplicados\n",
    "# Revisar y eliminar duplicados en df_web\n",
    "print(\"🔁 Duplicados en df_web:\", df_web.duplicated().sum())\n",
    "df_web = df_web.drop_duplicates()"
   ]
  },
  {
   "cell_type": "code",
   "execution_count": 17,
   "id": "6c68cec5-bb14-4bd2-a713-846ca4b3cd1a",
   "metadata": {},
   "outputs": [
    {
     "name": "stdout",
     "output_type": "stream",
     "text": [
      "\n",
      "🔍 Tipos de datos en df_csv:\n",
      "Oro       float64\n",
      "Plata     float64\n",
      "Bronce    float64\n",
      "Total       int64\n",
      "Pais       object\n",
      "dtype: object\n",
      "\n",
      "🔍 Tipos de datos en df_excel:\n",
      "AGE      int64\n",
      "TL     float64\n",
      "PT     float64\n",
      "dtype: object\n",
      "\n",
      "🔍 Tipos de datos en df_web:\n",
      "N.º                                                                                                  object\n",
      "País (o territorio dependiente)                                                                      object\n",
      "Proyección exponencial de la población al 1/7/2025[7]​                                               object\n",
      "Total mun- dial (%)                                                                                  object\n",
      "Cambio medio anual (%)[8]​                                                                           object\n",
      "Cambio absoluto anual promedio                                                                       object\n",
      "Cambio medio abs. total anual (%)                                                                    object\n",
      "Años para even- tual du- pli- ca- ción[9]​                                                           object\n",
      "Censo más reciente, última estimación oficial, proyección de la ONU o reloj de población nacional    object\n",
      "Fecha de esta última cifra de población en particular (d/mm/aaaa)[10]​                               object\n",
      "Tipo[11]​                                                                                            object\n",
      "Enlace o hipervínculo (usualmente de tipo oficial) de esta última cifra de población                 object\n",
      "dtype: object\n"
     ]
    }
   ],
   "source": [
    "print(\"\\n🔍 Tipos de datos en df_csv:\")\n",
    "print(df_csv.dtypes)\n",
    "\n",
    "print(\"\\n🔍 Tipos de datos en df_excel:\")\n",
    "print(df_excel.dtypes)\n",
    "\n",
    "print(\"\\n🔍 Tipos de datos en df_web:\")\n",
    "print(df_web.dtypes)"
   ]
  },
  {
   "cell_type": "markdown",
   "id": "ef4bf667-9119-43a1-9ee5-788f1c433a47",
   "metadata": {},
   "source": [
    "No es necesario cambiar los tipos de columnas"
   ]
  },
  {
   "cell_type": "code",
   "execution_count": 18,
   "id": "ad8ff590-104b-493e-8c57-e8d5100009f5",
   "metadata": {},
   "outputs": [],
   "source": [
    "# Selección de columnas relevantes en df_web\n",
    "columnas_relevantes_web = [\n",
    "    \"País (o territorio dependiente)\",\n",
    "    \"Proyección exponencial de la población al 1/7/2025[7]​\",\n",
    "    \"Cambio medio anual (%)[8]​\"\n",
    "]\n",
    "df_web_clean = df_web[columnas_relevantes_web]"
   ]
  },
  {
   "cell_type": "code",
   "execution_count": 19,
   "id": "d5cadced-6eb8-4119-8b40-1c429ef64ec2",
   "metadata": {},
   "outputs": [],
   "source": [
    "# Renombrar columnas\n",
    "df_web_clean = df_web_clean.rename(columns={\n",
    "    \"País (o territorio dependiente)\": \"Pais\",\n",
    "    \"Proyección exponencial de la población al 1/7/2025[7]​\": \"Poblacion_2025\",\n",
    "    \"Cambio medio anual (%)[8]​\": \"Cambio_anual_pct\"\n",
    "})"
   ]
  },
  {
   "cell_type": "code",
   "execution_count": 23,
   "id": "99d5c89e-41f4-422d-ae81-46b751a12326",
   "metadata": {},
   "outputs": [],
   "source": [
    "# Convertir 'Poblacion_2025' a numérica\n",
    "df_web_clean[\"Poblacion_2025\"] = (\n",
    "    df_web_clean[\"Poblacion_2025\"]\n",
    "    .replace(\",\", \"\", regex=True)\n",
    "    .astype(str)\n",
    "    .str.extract(r\"(\\d+\\.?\\d*)\")[0]  \n",
    "    .astype(float)\n",
    ")"
   ]
  },
  {
   "cell_type": "code",
   "execution_count": 25,
   "id": "15de00be-2c04-48ef-a242-340ac5bb104e",
   "metadata": {},
   "outputs": [],
   "source": [
    "# Ordenar el DataFrame por población\n",
    "df_web_clean = df_web_clean.sort_values(by=\"Poblacion_2025\", ascending=False)"
   ]
  },
  {
   "cell_type": "code",
   "execution_count": null,
   "id": "3e3cc185-5c67-46bf-b931-5fb0efff180b",
   "metadata": {},
   "outputs": [],
   "source": []
  }
 ],
 "metadata": {
  "kernelspec": {
   "display_name": "Python 3 (ipykernel)",
   "language": "python",
   "name": "python3"
  },
  "language_info": {
   "codemirror_mode": {
    "name": "ipython",
    "version": 3
   },
   "file_extension": ".py",
   "mimetype": "text/x-python",
   "name": "python",
   "nbconvert_exporter": "python",
   "pygments_lexer": "ipython3",
   "version": "3.12.7"
  }
 },
 "nbformat": 4,
 "nbformat_minor": 5
}
