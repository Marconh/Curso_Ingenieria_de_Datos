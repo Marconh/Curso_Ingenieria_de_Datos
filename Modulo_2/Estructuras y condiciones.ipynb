{
 "cells": [
  {
   "cell_type": "markdown",
   "id": "110be92e-007c-4cc1-bdb2-b55b519fbbe0",
   "metadata": {},
   "source": [
    "Actividad 1"
   ]
  },
  {
   "cell_type": "code",
   "execution_count": 2,
   "id": "faf9026a-fd17-41e4-8a51-d8dc6974d76b",
   "metadata": {},
   "outputs": [
    {
     "name": "stdout",
     "output_type": "stream",
     "text": [
      "Promedio general: 68.2\n",
      "Cantidad de estudiantes aprobados: 6\n",
      "Notas aprobadas: [85, 70, 92, 61, 77, 100]\n"
     ]
    }
   ],
   "source": [
    "# Lista de calificaciones\n",
    "calificaciones = [85, 70, 58, 92, 47, 61, 77, 33, 100, 59]\n",
    "\n",
    "# Inicializar variables\n",
    "suma_total = 0\n",
    "aprobados = 0\n",
    "notas_aprobadas = []\n",
    "\n",
    "# Pasos para recorrer la lista\n",
    "for nota in calificaciones:\n",
    "    suma_total += nota\n",
    "    if nota >= 60:\n",
    "        aprobados += 1\n",
    "        notas_aprobadas.append(nota)\n",
    "\n",
    "# Promedio\n",
    "promedio_general = suma_total / len(calificaciones)\n",
    "\n",
    "\n",
    "print(\"Promedio general:\", promedio_general)\n",
    "print(\"Cantidad de estudiantes aprobados:\", aprobados)\n",
    "print(\"Notas aprobadas:\", notas_aprobadas)"
   ]
  },
  {
   "cell_type": "markdown",
   "id": "83af9bf8-dd8d-40ae-a55a-d29a5f2c7225",
   "metadata": {},
   "source": [
    "Actividad 2"
   ]
  },
  {
   "cell_type": "code",
   "execution_count": 4,
   "id": "d9267ee8-4067-4be4-b8ec-80325c0c73c5",
   "metadata": {},
   "outputs": [
    {
     "name": "stdout",
     "output_type": "stream",
     "text": [
      "Empleados mayores de 30 años:\n",
      " - Luis (35 años)\n",
      " - Claudia (42 años)\n",
      "\n",
      "Lista de empleados menores de 30 años: ['Ana', 'Pedro', 'Carlos']\n",
      "Total de empleados: 6\n"
     ]
    }
   ],
   "source": [
    "empleados = {\n",
    "    'emp1': {'nombre': 'Ana', 'edad': 28},\n",
    "    'emp2': {'nombre': 'Luis', 'edad': 35},\n",
    "    'emp3': {'nombre': 'Claudia', 'edad': 42},\n",
    "    'emp4': {'nombre': 'Pedro', 'edad': 25},\n",
    "    'emp5': {'nombre': 'Sofía', 'edad': 30},\n",
    "    'emp6': {'nombre': 'Carlos', 'edad': 22}\n",
    "}\n",
    "\n",
    "# Lista para menores de 30\n",
    "menores_de_30 = []\n",
    "\n",
    "# Contador de empleados y recorrido\n",
    "total_empleados = 0\n",
    "\n",
    "print(\"Empleados mayores de 30 años:\")\n",
    "for clave, datos in empleados.items():\n",
    "    total_empleados += 1\n",
    "    if datos['edad'] > 30:\n",
    "        print(f\" - {datos['nombre']} ({datos['edad']} años)\")\n",
    "    elif datos['edad'] < 30:\n",
    "        menores_de_30.append(datos['nombre'])\n",
    "\n",
    "# Resultados\n",
    "print(\"\\nLista de empleados menores de 30 años:\", menores_de_30)\n",
    "print(\"Total de empleados:\", total_empleados)\n"
   ]
  },
  {
   "cell_type": "code",
   "execution_count": null,
   "id": "a6debe08-e844-4976-86c3-9e4ce494db0d",
   "metadata": {},
   "outputs": [],
   "source": []
  }
 ],
 "metadata": {
  "kernelspec": {
   "display_name": "Python 3 (ipykernel)",
   "language": "python",
   "name": "python3"
  },
  "language_info": {
   "codemirror_mode": {
    "name": "ipython",
    "version": 3
   },
   "file_extension": ".py",
   "mimetype": "text/x-python",
   "name": "python",
   "nbconvert_exporter": "python",
   "pygments_lexer": "ipython3",
   "version": "3.12.7"
  }
 },
 "nbformat": 4,
 "nbformat_minor": 5
}
