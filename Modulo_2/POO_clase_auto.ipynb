{
 "cells": [
  {
   "cell_type": "code",
   "execution_count": 1,
   "id": "1bd95942-da00-432f-bfe1-0b2270dae764",
   "metadata": {},
   "outputs": [],
   "source": [
    "class Auto:\n",
    "    def __init__(self, color, peso, tamaño, alto, largo, ruedas, puertas, tipo):\n",
    "        self.color = color\n",
    "        self.peso = peso\n",
    "        self.tamaño = tamaño\n",
    "        self.alto = alto\n",
    "        self.largo = largo\n",
    "        self.cantidad_ruedas = ruedas\n",
    "        self.cantidad_puertas = puertas\n",
    "        self.tipo = tipo\n",
    "        self.estado = \"detenido\"  # Estado inicial\n",
    "\n",
    "    # Métodos (comportamientos)\n",
    "    def arrancar(self):\n",
    "        self.estado = \"circulando\"\n",
    "        print(\"El auto ha arrancado y ahora está circulando.\")\n",
    "\n",
    "    def frenar(self):\n",
    "        self.estado = \"detenido\"\n",
    "        print(\"El auto se ha detenido.\")\n",
    "\n",
    "    def acelerar(self):\n",
    "        if self.estado == \"circulando\":\n",
    "            print(\"El auto está acelerando.\")\n",
    "        else:\n",
    "            print(\"Primero debes arrancar el auto.\")\n",
    "\n",
    "    def girar(self, direccion):\n",
    "        if self.estado == \"circulando\":\n",
    "            print(f\"El auto está girando hacia {direccion}.\")\n",
    "        else:\n",
    "            print(\"No puedes girar si el auto no está circulando.\")\n",
    "\n",
    "    def estacionar(self):\n",
    "        self.estado = \"estacionado\"\n",
    "        print(\"El auto ha sido estacionado.\")\n",
    "\n",
    "    def daniar(self):\n",
    "        self.estado = \"dañado\"\n",
    "        print(\"El auto está dañado.\")\n"
   ]
  },
  {
   "cell_type": "code",
   "execution_count": 2,
   "id": "e91d0b54-9873-41b4-9ed1-e2f196e7f2b7",
   "metadata": {},
   "outputs": [
    {
     "name": "stdout",
     "output_type": "stream",
     "text": [
      "El auto ha arrancado y ahora está circulando.\n",
      "El auto está acelerando.\n",
      "El auto está girando hacia la derecha.\n",
      "El auto se ha detenido.\n",
      "El auto ha sido estacionado.\n"
     ]
    }
   ],
   "source": [
    "# Creación de auto\n",
    "mi_auto = Auto(\n",
    "    color=\"Negro\",\n",
    "    peso=1500,\n",
    "    tamaño=\"Mediano\",\n",
    "    alto=1.4,\n",
    "    largo=4.5,\n",
    "    ruedas=4,\n",
    "    puertas=4,\n",
    "    tipo=\"Sedán\"\n",
    ")\n",
    "\n",
    "# Probar sus métodos\n",
    "mi_auto.arrancar()\n",
    "mi_auto.acelerar()\n",
    "mi_auto.girar(\"la derecha\")\n",
    "mi_auto.frenar()\n",
    "mi_auto.estacionar()\n"
   ]
  },
  {
   "cell_type": "code",
   "execution_count": null,
   "id": "d274960a-91d3-40f5-b697-de9a52811f3e",
   "metadata": {},
   "outputs": [],
   "source": []
  }
 ],
 "metadata": {
  "kernelspec": {
   "display_name": "Python 3 (ipykernel)",
   "language": "python",
   "name": "python3"
  },
  "language_info": {
   "codemirror_mode": {
    "name": "ipython",
    "version": 3
   },
   "file_extension": ".py",
   "mimetype": "text/x-python",
   "name": "python",
   "nbconvert_exporter": "python",
   "pygments_lexer": "ipython3",
   "version": "3.12.7"
  }
 },
 "nbformat": 4,
 "nbformat_minor": 5
}
