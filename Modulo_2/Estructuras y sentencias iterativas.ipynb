{
 "cells": [
  {
   "cell_type": "markdown",
   "id": "8c5e1bce-1bf3-4270-9ab9-1685825393dc",
   "metadata": {},
   "source": [
    "Hay que analizar un codigo original y ver posibles mejoras"
   ]
  },
  {
   "cell_type": "code",
   "execution_count": 1,
   "id": "c673885d-f7bd-426f-b083-b07a547c94b2",
   "metadata": {},
   "outputs": [],
   "source": [
    "#Codigo original\n",
    "\n",
    "class AnalizadorFinanciero:\n",
    "\n",
    "    # Calcula el total de ingresos en una lista de transacciones\n",
    "    def calcular_total_ingresos(self, transacciones):\n",
    "        total = 0\n",
    "        for ingreso in transacciones:\n",
    "            total += ingreso\n",
    "        return total\n",
    "\n",
    "    # Filtra y retorna solo los ingresos mayores a un umbral dado\n",
    "    def filtrar_ingresos_altos(self, transacciones, umbral):\n",
    "        ingresos_altos = []\n",
    "        for ingreso in transacciones:\n",
    "            if ingreso > umbral:\n",
    "                ingresos_altos.append(ingreso)\n",
    "        return ingresos_altos\n",
    "\n",
    "    # Agrupa ingresos en un diccionario por categorías\n",
    "    def agrupar_por_categoria(self, transacciones, categorias):\n",
    "        agrupado = {}\n",
    "        for categoria, ingreso in zip(categorias, transacciones):\n",
    "            if categoria in agrupado:\n",
    "                agrupado[categoria].append(ingreso)\n",
    "            else:\n",
    "                agrupado[categoria] = [ingreso]\n",
    "        return agrupado"
   ]
  },
  {
   "cell_type": "markdown",
   "id": "e3c6c491-4388-4615-9932-29c6d1d3774d",
   "metadata": {},
   "source": [
    "1. Análisis de la Estructura de Datos \n",
    "a) Analiza cómo las estructuras de datos en Python (listas y  diccionarios) ayudan a organizar y manipular los datos en el código de ejemplo.\n",
    "   Describe las principales ventajas de usar listas para  almacenar transacciones y diccionarios para categorizar ingresos.\n",
    "b) Identifica posibles limitaciones o mejoras al utilizar estas estructuras en el proyecto de DataSolvers.\n",
    "\n",
    "Respuesta: \n",
    "Listas como transacciones son ideales para almacenar datos secuenciales como montos de ingresos, permitiendo recorridos y cálculos de los datos.\n",
    "\n",
    "Diccionarios permiten agrupar datos por categoría, accediendo rápidamente a los ingresos asociados a cada categoría.\n",
    "\n",
    "Posibles limitaciones:\n",
    "Las listas no previenen duplicados ni permiten búsqueda rápida.\n",
    "\n",
    "Los diccionarios crecen en complejidad si se anidan o se requiere análisis más profundo."
   ]
  },
  {
   "cell_type": "markdown",
   "id": "124cc18b-e7fe-457a-abfa-4be614f4d7e2",
   "metadata": {},
   "source": [
    "2. Optimización de Sentencias Iterativas\n",
    "\n",
    "Explica cómo se pueden optimizar las sentencias iterativas en las funciones calcular_total_ingresos() yfiltrar_ingresos_altos() para mejorar la eficiencia.\n",
    "Describe cómo podrías usar expresiones generadoras o comprensión de listas para optimizar estos procesos."
   ]
  },
  {
   "cell_type": "code",
   "execution_count": 3,
   "id": "844640d6-510a-41af-a72f-dea07f67b181",
   "metadata": {},
   "outputs": [],
   "source": [
    "#codigo original\n",
    "def calcular_total_ingresos(self, transacciones):\n",
    "    total = 0\n",
    "    for ingreso in transacciones:\n",
    "        total += ingreso\n",
    "    return total"
   ]
  },
  {
   "cell_type": "code",
   "execution_count": 4,
   "id": "4250f2eb-b977-4249-824d-5513e22e3e43",
   "metadata": {},
   "outputs": [],
   "source": [
    "#Codigo propuesto\n",
    "def calcular_total_ingresos(self, transacciones):\n",
    "    return sum(transacciones)"
   ]
  },
  {
   "cell_type": "code",
   "execution_count": 5,
   "id": "2cdd68bd-c28a-4cfe-b95d-22ac74c16629",
   "metadata": {},
   "outputs": [],
   "source": [
    "#codigo original\n",
    "def filtrar_ingresos_altos(self, transacciones, umbral):\n",
    "    ingresos_altos = []\n",
    "    for ingreso in transacciones:\n",
    "        if ingreso > umbral:\n",
    "            ingresos_altos.append(ingreso)\n",
    "    return ingresos_altos"
   ]
  },
  {
   "cell_type": "code",
   "execution_count": 6,
   "id": "817c0ae8-45be-4241-9aea-2d4d0d195a65",
   "metadata": {},
   "outputs": [],
   "source": [
    "#Codigo propuesto\n",
    "def filtrar_ingresos_altos(self, transacciones, umbral):\n",
    "    return [ingreso for ingreso in transacciones if ingreso > umbral]\n"
   ]
  },
  {
   "cell_type": "markdown",
   "id": "38f571f0-2e9c-4a57-8d14-a50915ffc324",
   "metadata": {},
   "source": [
    "3. Implementación de Pruebas para las Funciones\n",
    "   \n",
    "Crea una serie de pruebas para validar que las funciones calcular_total_ingresos(), filtrar_ingresos_altos(), y agrupar_por_categoria() funcionan correctamente con diferentes conjuntos de datos.\n",
    "\n",
    "Implementa una estructura de prueba que incluya datos de prueba representativos y explica cómo verificar los resultados."
   ]
  },
  {
   "cell_type": "code",
   "execution_count": 7,
   "id": "86e6e2a0-ded1-4459-a498-24a8aee1073e",
   "metadata": {},
   "outputs": [],
   "source": [
    "transacciones = [100, 500, 200, 50, 700]\n",
    "categorias = ['salario', 'bono', 'salario', 'otros', 'bono']\n"
   ]
  },
  {
   "cell_type": "code",
   "execution_count": 10,
   "id": "86139f2d-b9ba-4a83-bfbf-700c1800366e",
   "metadata": {},
   "outputs": [
    {
     "name": "stdout",
     "output_type": "stream",
     "text": [
      "Prueba total de ingresos: OK\n",
      "Prueba ingresos altos: OK\n",
      "Prueba agrupación por categoría: OK\n"
     ]
    }
   ],
   "source": [
    "af = AnalizadorFinanciero()\n",
    "\n",
    "# Prueba 1: Total de ingresos\n",
    "esperado_total = 1550\n",
    "resultado_total = af.calcular_total_ingresos(transacciones)\n",
    "if resultado_total == esperado_total:\n",
    "    print(\"Prueba total de ingresos: OK\")\n",
    "else:\n",
    "    print(\"Prueba total de ingresos: Falla\")\n",
    "    print(f\"Esperado: {esperado_total}, Obtenido: {resultado_total}\")\n",
    "\n",
    "# Prueba 2: Filtrar ingresos altos\n",
    "esperado_altos = [500, 200, 700]\n",
    "resultado_altos = af.filtrar_ingresos_altos(transacciones, 150)\n",
    "if resultado_altos == esperado_altos:\n",
    "    print(\"Prueba ingresos altos: OK\")\n",
    "else:\n",
    "    print(\"Prueba ingresos altos: Falla\")\n",
    "    print(f\"Esperado: {esperado_altos}, Obtenido: {resultado_altos}\")\n",
    "\n",
    "# Prueba 3: Agrupación por categoría\n",
    "esperado_grupo = {\n",
    "    'salario': [100, 200],\n",
    "    'bono': [500, 700],\n",
    "    'otros': [50]\n",
    "}\n",
    "resultado_grupo = af.agrupar_por_categoria(transacciones, categorias)\n",
    "if resultado_grupo == esperado_grupo:\n",
    "    print(\"Prueba agrupación por categoría: OK\")\n",
    "else:\n",
    "    print(\"Prueba agrupación por categoría: Falla\")\n",
    "    print(f\"Esperado: {esperado_grupo}\")\n",
    "    print(f\"Obtenido: {resultado_grupo}\")"
   ]
  },
  {
   "cell_type": "markdown",
   "id": "d6718144-1d40-4bab-a9f3-cbceb7259a5b",
   "metadata": {},
   "source": [
    "4. Aplicación de Estructuras de Datos Avanzadas\n",
    "   \n",
    "Investiga cómo podría utilizarse un conjunto (set) en el código para optimizar la verificación de categorías únicas en el sistema financiero.\n",
    "Describe los beneficios de utilizar conjuntos en Python para tareas de deduplicación y acceso rápido en comparación con listas."
   ]
  },
  {
   "cell_type": "code",
   "execution_count": 11,
   "id": "579c643a-94d9-417c-bd9e-388b8c4a16c8",
   "metadata": {},
   "outputs": [],
   "source": [
    "#Obtiene categorias unicas rapidamente\n",
    "categorias_unicas = set(categorias)\n"
   ]
  },
  {
   "cell_type": "markdown",
   "id": "93017501-3717-4543-82f1-f6671136aafa",
   "metadata": {},
   "source": [
    "Evita duplicados automáticamente.\n",
    "\n",
    "Búsqueda y verificación de pertenencia más eficiente"
   ]
  },
  {
   "cell_type": "markdown",
   "id": "92bf2cd1-ff62-4c47-bacc-dfec02fc184e",
   "metadata": {},
   "source": [
    "5. Refactorización del Código\n",
    "   \n",
    "Utilizando el análisis previo, refactoriza el código base para incorporar las mejoras propuestas. Implementa comprensión de listas y optimiza el uso de estructuras de datos para que el sistema sea más eficiente."
   ]
  },
  {
   "cell_type": "code",
   "execution_count": 12,
   "id": "32026625-0836-4479-8d03-936c14c2c82a",
   "metadata": {},
   "outputs": [],
   "source": [
    "class AnalizadorFinanciero:\n",
    "\n",
    "    def calcular_total_ingresos(self, transacciones):\n",
    "        return sum(transacciones)\n",
    "\n",
    "    def filtrar_ingresos_altos(self, transacciones, umbral):\n",
    "        return [i for i in transacciones if i > umbral]\n",
    "\n",
    "    def agrupar_por_categoria(self, transacciones, categorias):\n",
    "        agrupado = {}\n",
    "        for c, i in zip(categorias, transacciones):\n",
    "            agrupado.setdefault(c, []).append(i)\n",
    "        return agrupado\n",
    "\n",
    "    def categorias_unicas(self, categorias):\n",
    "        return set(categorias)\n"
   ]
  },
  {
   "cell_type": "markdown",
   "id": "0f84d2c7-aba5-4691-ac91-af21cf2c10df",
   "metadata": {},
   "source": [
    "Conclusion \n",
    "\n",
    "Aplicar estructuras como listas, diccionarios y conjuntos permite manejar grandes volúmenes de datos de forma ordenada y eficiente. El uso de comprensiones y funciones integradas mejora la legibilidad y rendimiento del código, mientras que las pruebas aseguran la robustez del sistema frente a múltiples escenarios."
   ]
  },
  {
   "cell_type": "code",
   "execution_count": null,
   "id": "174938c6-ff93-4c50-95cb-ee454cf79569",
   "metadata": {},
   "outputs": [],
   "source": []
  }
 ],
 "metadata": {
  "kernelspec": {
   "display_name": "Python 3 (ipykernel)",
   "language": "python",
   "name": "python3"
  },
  "language_info": {
   "codemirror_mode": {
    "name": "ipython",
    "version": 3
   },
   "file_extension": ".py",
   "mimetype": "text/x-python",
   "name": "python",
   "nbconvert_exporter": "python",
   "pygments_lexer": "ipython3",
   "version": "3.12.7"
  }
 },
 "nbformat": 4,
 "nbformat_minor": 5
}
