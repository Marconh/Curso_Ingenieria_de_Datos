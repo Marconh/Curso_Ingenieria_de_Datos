{
 "cells": [
  {
   "cell_type": "code",
   "execution_count": 1,
   "id": "db440c05-c22d-4d88-88f5-9ecc4f65369f",
   "metadata": {},
   "outputs": [],
   "source": [
    "#Importar la libreria para conectar con cassandra en Docker\n",
    "from cassandra.cluster import Cluster"
   ]
  },
  {
   "cell_type": "code",
   "execution_count": null,
   "id": "8f958d37-4773-4a98-886a-6908a2e58c79",
   "metadata": {},
   "outputs": [],
   "source": []
  },
  {
   "cell_type": "code",
   "execution_count": 3,
   "id": "711a3bb3-63cd-4a11-ae54-9108744a3bc0",
   "metadata": {},
   "outputs": [
    {
     "name": "stdout",
     "output_type": "stream",
     "text": [
      "Conectado a Cassandra: <cassandra.cluster.Session object at 0x0000015A0DFFD3D0>\n"
     ]
    }
   ],
   "source": [
    "# Conectarse al contenedor local de Cassandra\n",
    "cluster = Cluster(['127.0.0.1'])  # usa el puerto 9042 por defecto\n",
    "session = cluster.connect()\n",
    "\n",
    "print(\"Conectado a Cassandra:\", session)"
   ]
  },
  {
   "cell_type": "code",
   "execution_count": 4,
   "id": "ed743fd8-0676-4704-8783-82349f9096a5",
   "metadata": {},
   "outputs": [
    {
     "name": "stdout",
     "output_type": "stream",
     "text": [
      "Keyspace telecom listo\n"
     ]
    }
   ],
   "source": [
    "#Creacion keyspace\n",
    "session.execute(\"\"\"\n",
    "CREATE KEYSPACE IF NOT EXISTS telecom\n",
    "WITH replication = {'class': 'SimpleStrategy', 'replication_factor': 1};\n",
    "\"\"\")\n",
    "session.set_keyspace(\"telecom\")\n",
    "print(\"Keyspace telecom listo\")"
   ]
  },
  {
   "cell_type": "code",
   "execution_count": 5,
   "id": "321ac20a-a8d1-47d3-9f77-e513a05dd0e7",
   "metadata": {},
   "outputs": [
    {
     "name": "stdout",
     "output_type": "stream",
     "text": [
      "Tabla llamadas creada\n"
     ]
    }
   ],
   "source": [
    "#Creacion tabla llamadas\n",
    "session.execute(\"\"\"\n",
    "CREATE TABLE IF NOT EXISTS llamadas (\n",
    "    numero_origen  TEXT,\n",
    "    fecha          DATE,\n",
    "    id_llamada     UUID,\n",
    "    numero_destino TEXT,\n",
    "    duracion       INT,\n",
    "    PRIMARY KEY ((numero_origen), fecha, id_llamada)\n",
    ");\n",
    "\"\"\")\n",
    "print(\"Tabla llamadas creada\")"
   ]
  },
  {
   "cell_type": "code",
   "execution_count": 6,
   "id": "0262faeb-0a02-4649-bd01-4ff43447fcef",
   "metadata": {},
   "outputs": [],
   "source": [
    "import uuid\n",
    "from datetime import date"
   ]
  },
  {
   "cell_type": "code",
   "execution_count": 7,
   "id": "598e244a-c9ba-4eab-983a-efd0da236163",
   "metadata": {},
   "outputs": [
    {
     "name": "stdout",
     "output_type": "stream",
     "text": [
      "Datos insertados\n"
     ]
    }
   ],
   "source": [
    "#Insertar datos\n",
    "datos = [\n",
    "    (\"123456789\", date(2025, 6, 1), \"987654321\", 10),\n",
    "    (\"123456789\", date(2025, 6, 15), \"654987321\", 5),\n",
    "    (\"555666777\", date(2025, 6, 2), \"999888777\", 8),\n",
    "]\n",
    "\n",
    "for n_origen, f, n_dest, mins in datos:\n",
    "    session.execute(\n",
    "        \"INSERT INTO llamadas (numero_origen, fecha, id_llamada, numero_destino, duracion) \"\n",
    "        \"VALUES (%s, %s, %s, %s, %s)\",\n",
    "        (n_origen, f, uuid.uuid4(), n_dest, mins)\n",
    "    )\n",
    "print(\"Datos insertados\")"
   ]
  },
  {
   "cell_type": "code",
   "execution_count": 8,
   "id": "e1986ed2-716c-4ca2-adba-8d47a70f5a7f",
   "metadata": {},
   "outputs": [
    {
     "name": "stdout",
     "output_type": "stream",
     "text": [
      "Row(numero_origen='123456789', fecha=Date(20240), id_llamada=UUID('589c33ae-6032-4a3c-bc12-1a2261f6d257'), duracion=10, numero_destino='987654321')\n",
      "Row(numero_origen='123456789', fecha=Date(20254), id_llamada=UUID('dcec0a33-3506-486e-b262-66d99e529156'), duracion=5, numero_destino='654987321')\n"
     ]
    }
   ],
   "source": [
    "#Consulta las llamadas de un número\n",
    "rows = session.execute(\"\"\"\n",
    "SELECT * FROM llamadas\n",
    "WHERE numero_origen = '123456789';\n",
    "\"\"\")\n",
    "for row in rows:\n",
    "    print(row)"
   ]
  },
  {
   "cell_type": "code",
   "execution_count": 9,
   "id": "fa0c286d-9953-4aa7-9b3c-76573c416fa2",
   "metadata": {},
   "outputs": [
    {
     "name": "stdout",
     "output_type": "stream",
     "text": [
      "Row(numero_origen='123456789', fecha=Date(20240), id_llamada=UUID('589c33ae-6032-4a3c-bc12-1a2261f6d257'), duracion=10, numero_destino='987654321')\n",
      "Row(numero_origen='123456789', fecha=Date(20254), id_llamada=UUID('dcec0a33-3506-486e-b262-66d99e529156'), duracion=5, numero_destino='654987321')\n"
     ]
    }
   ],
   "source": [
    "#llamadas de un número en el rango de fechas\n",
    "rows = session.execute(\"\"\"\n",
    "SELECT * FROM llamadas\n",
    "WHERE numero_origen = '123456789'\n",
    "  AND fecha >= '2025-06-01' AND fecha <= '2025-06-30';\n",
    "\"\"\")\n",
    "for row in rows:\n",
    "    print(row)"
   ]
  },
  {
   "cell_type": "code",
   "execution_count": 10,
   "id": "e50851bb-a923-49ee-a4cc-179d4be07349",
   "metadata": {},
   "outputs": [
    {
     "name": "stdout",
     "output_type": "stream",
     "text": [
      "Minutos consumidos en junio 2025: 15\n"
     ]
    }
   ],
   "source": [
    "#el total de minutos de llamada\n",
    "rows = session.execute(\"\"\"\n",
    "SELECT duracion FROM llamadas\n",
    "WHERE numero_origen = '123456789'\n",
    "  AND fecha >= '2025-06-01' AND fecha <= '2025-06-30';\n",
    "\"\"\")\n",
    "total = sum(r.duracion for r in rows)\n",
    "print(\"Minutos consumidos en junio 2025:\", total)"
   ]
  },
  {
   "cell_type": "code",
   "execution_count": null,
   "id": "c803559a-0525-42fe-b0dc-a033583c7d3d",
   "metadata": {},
   "outputs": [],
   "source": []
  }
 ],
 "metadata": {
  "kernelspec": {
   "display_name": "Python 3.11 (cassandra)",
   "language": "python",
   "name": "cassandra-env"
  },
  "language_info": {
   "codemirror_mode": {
    "name": "ipython",
    "version": 3
   },
   "file_extension": ".py",
   "mimetype": "text/x-python",
   "name": "python",
   "nbconvert_exporter": "python",
   "pygments_lexer": "ipython3",
   "version": "3.11.13"
  }
 },
 "nbformat": 4,
 "nbformat_minor": 5
}
