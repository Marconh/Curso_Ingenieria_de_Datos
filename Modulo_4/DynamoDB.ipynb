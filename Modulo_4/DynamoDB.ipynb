{
 "cells": [
  {
   "cell_type": "code",
   "execution_count": 1,
   "id": "1a943786-fce9-44d4-90c0-350e20f2f2f0",
   "metadata": {},
   "outputs": [
    {
     "name": "stdout",
     "output_type": "stream",
     "text": [
      "boto3: 1.39.4\n",
      "botocore: 1.39.4\n"
     ]
    }
   ],
   "source": [
    "#Importar librerias\n",
    "import boto3, botocore, json, sys\n",
    "print(\"boto3:\", boto3.__version__)\n",
    "print(\"botocore:\", botocore.__version__)\n"
   ]
  },
  {
   "cell_type": "code",
   "execution_count": 4,
   "id": "af1fe4dd-e3c1-44de-8a29-5e59603b6555",
   "metadata": {},
   "outputs": [
    {
     "name": "stdout",
     "output_type": "stream",
     "text": [
      "\u001b[32m✓ Conexión exitosa a DynamoDB Local\u001b[0m\n",
      "Tablas existentes: — ninguna tabla—\n"
     ]
    }
   ],
   "source": [
    "#probar conexion y si hay tablas existentes\n",
    "try:\n",
    "    # 1️Conexión a DynamoDB Local (puerto 8000)\n",
    "    dynamodb = boto3.client(\n",
    "        \"dynamodb\",\n",
    "        endpoint_url=\"http://localhost:8000\",\n",
    "        region_name=\"us-west-2\",\n",
    "        aws_access_key_id=\"fake\",\n",
    "        aws_secret_access_key=\"fake\",\n",
    "    )\n",
    "\n",
    "    # 2️ Llamada de prueba: listar tablas\n",
    "    tablas = dynamodb.list_tables()[\"TableNames\"]\n",
    "\n",
    "    # 3️ Confirmación visual\n",
    "    print(\"\\x1b[32m✓ Conexión exitosa a DynamoDB Local\\x1b[0m\")\n",
    "    print(f\"Tablas existentes: {tablas if tablas else '— ninguna tabla—'}\")\n",
    "\n",
    "except (BotoCoreError, ClientError) as e:\n",
    "    print(\"\\x1b[31m✗ Error de conexión\\x1b[0m\")\n",
    "    print(e)"
   ]
  },
  {
   "cell_type": "code",
   "execution_count": 6,
   "id": "e5c91b61-487b-42a9-bf61-63b590a11e05",
   "metadata": {},
   "outputs": [],
   "source": [
    "# Creacion de  un \"resource\" \n",
    "dynamodb_resource = boto3.resource(\n",
    "    \"dynamodb\",\n",
    "    endpoint_url=dynamodb.meta.endpoint_url,\n",
    "    region_name=dynamodb.meta.region_name,\n",
    "    aws_access_key_id=dynamodb._request_signer._credentials.access_key,\n",
    "    aws_secret_access_key=dynamodb._request_signer._credentials.secret_key,\n",
    ")"
   ]
  },
  {
   "cell_type": "code",
   "execution_count": 7,
   "id": "3e988ceb-54d3-4d01-98b8-a3a9fab6537e",
   "metadata": {},
   "outputs": [
    {
     "name": "stdout",
     "output_type": "stream",
     "text": [
      "Tabla Pedidos lista\n"
     ]
    }
   ],
   "source": [
    "#Crear tabla de pedidos\n",
    "table_name = \"Pedidos\"\n",
    "\n",
    "# Si existe, la borramos para empezar limpio\n",
    "try:\n",
    "    dynamodb.delete_table(TableName=table_name)\n",
    "    dynamodb.get_waiter(\"table_not_exists\").wait(TableName=table_name)\n",
    "except dynamodb.exceptions.ResourceNotFoundException:\n",
    "    pass\n",
    "\n",
    "# Crear la tabla\n",
    "dynamodb.create_table(\n",
    "    TableName=table_name,\n",
    "    AttributeDefinitions=[\n",
    "        {\"AttributeName\": \"cliente_id\", \"AttributeType\": \"S\"},\n",
    "        {\"AttributeName\": \"pedido_id\", \"AttributeType\": \"S\"},\n",
    "    ],\n",
    "    KeySchema=[\n",
    "        {\"AttributeName\": \"cliente_id\", \"KeyType\": \"HASH\"},\n",
    "        {\"AttributeName\": \"pedido_id\", \"KeyType\": \"RANGE\"},\n",
    "    ],\n",
    "    BillingMode=\"PAY_PER_REQUEST\",\n",
    ")\n",
    "dynamodb_resource.Table(table_name).wait_until_exists()\n",
    "print(\"Tabla Pedidos lista\")"
   ]
  },
  {
   "cell_type": "code",
   "execution_count": 8,
   "id": "301794c4-65de-4c76-85ce-5e3b24948f4e",
   "metadata": {},
   "outputs": [],
   "source": [
    "from decimal import Decimal\n",
    "import datetime as dt"
   ]
  },
  {
   "cell_type": "code",
   "execution_count": 9,
   "id": "a5ca5625-bd68-413f-9a8b-7d2a7e2db173",
   "metadata": {},
   "outputs": [
    {
     "name": "stdout",
     "output_type": "stream",
     "text": [
      "Pedidos insertados\n"
     ]
    }
   ],
   "source": [
    "#insertar datos de prueba\n",
    "pedidos = [\n",
    "    {\n",
    "        \"cliente_id\": \"C001\",\n",
    "        \"pedido_id\": \"P1001\",\n",
    "        \"fecha\": dt.date(2025, 7, 15).isoformat(),\n",
    "        \"productos\": [\"Laptop\", \"Mouse\"],\n",
    "        \"total\": Decimal(\"1299.90\"),\n",
    "    },\n",
    "    {\n",
    "        \"cliente_id\": \"C001\",\n",
    "        \"pedido_id\": \"P1002\",\n",
    "        \"fecha\": dt.date(2025, 7, 16).isoformat(),\n",
    "        \"productos\": [\"Teclado\"],\n",
    "        \"total\": Decimal(\"99.90\"),\n",
    "    },\n",
    "    {\n",
    "        \"cliente_id\": \"C002\",\n",
    "        \"pedido_id\": \"P2001\",\n",
    "        \"fecha\": dt.date(2025, 7, 17).isoformat(),\n",
    "        \"productos\": [\"Monitor\", \"HDMI Cable\"],\n",
    "        \"total\": Decimal(\"399.90\"),\n",
    "    },\n",
    "]\n",
    "\n",
    "table = dynamodb_resource.Table(\"Pedidos\")\n",
    "for p in pedidos:\n",
    "    table.put_item(Item=p)\n",
    "\n",
    "print(\"Pedidos insertados\")"
   ]
  },
  {
   "cell_type": "code",
   "execution_count": 10,
   "id": "d5a1b771-9617-46d2-835b-77a69bef6e48",
   "metadata": {},
   "outputs": [
    {
     "name": "stdout",
     "output_type": "stream",
     "text": [
      "[{'fecha': '2025-07-15', 'total': Decimal('1299.9'), 'cliente_id': 'C001', 'pedido_id': 'P1001', 'productos': ['Laptop', 'Mouse']}, {'fecha': '2025-07-16', 'total': Decimal('99.9'), 'cliente_id': 'C001', 'pedido_id': 'P1002', 'productos': ['Teclado']}]\n"
     ]
    }
   ],
   "source": [
    "#ver pedidos por cliente\n",
    "from boto3.dynamodb.conditions import Key\n",
    "\n",
    "def pedidos_por_cliente(cliente_id):\n",
    "    resp = table.query(\n",
    "        KeyConditionExpression=Key(\"cliente_id\").eq(cliente_id)\n",
    "    )\n",
    "    return resp[\"Items\"]\n",
    "\n",
    "print(pedidos_por_cliente(\"C001\"))"
   ]
  },
  {
   "cell_type": "code",
   "execution_count": 11,
   "id": "c4a11460-d3be-4c40-a630-b0814e795be1",
   "metadata": {},
   "outputs": [
    {
     "name": "stdout",
     "output_type": "stream",
     "text": [
      "['Laptop', 'Mouse']\n"
     ]
    }
   ],
   "source": [
    "#ver productos de un pedido\n",
    "def productos_de_pedido(cliente_id, pedido_id):\n",
    "    resp = table.get_item(Key={\"cliente_id\": cliente_id, \"pedido_id\": pedido_id})\n",
    "    return resp[\"Item\"][\"productos\"] if \"Item\" in resp else []\n",
    "\n",
    "print(productos_de_pedido(\"C001\", \"P1001\"))"
   ]
  },
  {
   "cell_type": "code",
   "execution_count": 13,
   "id": "521cb739-656e-481c-9328-6181df966d20",
   "metadata": {},
   "outputs": [
    {
     "name": "stdout",
     "output_type": "stream",
     "text": [
      "{'C002': 1, 'C001': 2}\n"
     ]
    }
   ],
   "source": [
    "#Contador de pedidos por cliente\n",
    "from collections import Counter\n",
    "\n",
    "scan = table.scan()\n",
    "contador = Counter(item[\"cliente_id\"] for item in scan[\"Items\"])\n",
    "print(dict(contador))"
   ]
  },
  {
   "cell_type": "code",
   "execution_count": null,
   "id": "a6083f7a-76c9-47ce-b178-adbf53ec54d1",
   "metadata": {},
   "outputs": [],
   "source": []
  }
 ],
 "metadata": {
  "kernelspec": {
   "display_name": "Python 3 (ipykernel)",
   "language": "python",
   "name": "python3"
  },
  "language_info": {
   "codemirror_mode": {
    "name": "ipython",
    "version": 3
   },
   "file_extension": ".py",
   "mimetype": "text/x-python",
   "name": "python",
   "nbconvert_exporter": "python",
   "pygments_lexer": "ipython3",
   "version": "3.12.7"
  }
 },
 "nbformat": 4,
 "nbformat_minor": 5
}
